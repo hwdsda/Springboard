{
 "cells": [
  {
   "cell_type": "markdown",
   "metadata": {},
   "source": [
    "This exercise will require you to pull some data from the Qunadl API. Qaundl is currently the most widely used aggregator of financial market data."
   ]
  },
  {
   "cell_type": "markdown",
   "metadata": {},
   "source": [
    "As a first step, you will need to register a free account on the http://www.quandl.com website."
   ]
  },
  {
   "cell_type": "markdown",
   "metadata": {},
   "source": [
    "After you register, you will be provided with a unique API key, that you should store:"
   ]
  },
  {
   "cell_type": "code",
   "execution_count": 1,
   "metadata": {},
   "outputs": [],
   "source": [
    "# Store the API key as a string - according to PEP8, constants are always named in all upper case\n",
    "API_KEY = '*******'"
   ]
  },
  {
   "cell_type": "markdown",
   "metadata": {},
   "source": [
    "Qaundl has a large number of data sources, but, unfortunately, most of them require a Premium subscription. Still, there are also a good number of free datasets."
   ]
  },
  {
   "cell_type": "markdown",
   "metadata": {},
   "source": [
    "For this mini project, we will focus on equities data from the Frankfurt Stock Exhange (FSE), which is available for free. We'll try and analyze the stock prices of a company called Carl Zeiss Meditec, which manufactures tools for eye examinations, as well as medical lasers for laser eye surgery: https://www.zeiss.com/meditec/int/home.html. The company is listed under the stock ticker AFX_X."
   ]
  },
  {
   "cell_type": "markdown",
   "metadata": {},
   "source": [
    "You can find the detailed Quandl API instructions here: https://docs.quandl.com/docs/time-series"
   ]
  },
  {
   "cell_type": "markdown",
   "metadata": {},
   "source": [
    "While there is a dedicated Python package for connecting to the Quandl API, we would prefer that you use the *requests* package, which can be easily downloaded using *pip* or *conda*. You can find the documentation for the package here: http://docs.python-requests.org/en/master/ "
   ]
  },
  {
   "cell_type": "markdown",
   "metadata": {},
   "source": [
    "Finally, apart from the *requests* package, you are encouraged to not use any third party Python packages, such as *pandas*, and instead focus on what's available in the Python Standard Library (the *collections* module might come in handy: https://pymotw.com/3/collections/ ).\n",
    "Also, since you won't have access to DataFrames, you are encouraged to us Python's native data structures - preferably dictionaries, though some questions can also be answered using lists.\n",
    "You can read more on these data structures here: https://docs.python.org/3/tutorial/datastructures.html"
   ]
  },
  {
   "cell_type": "markdown",
   "metadata": {},
   "source": [
    "Keep in mind that the JSON responses you will be getting from the API map almost one-to-one to Python's dictionaries. Unfortunately, they can be very nested, so make sure you read up on indexing dictionaries in the documentation provided above."
   ]
  },
  {
   "cell_type": "code",
   "execution_count": 2,
   "metadata": {},
   "outputs": [],
   "source": [
    "# First, import the relevant modules\n",
    "import requests"
   ]
  },
  {
   "cell_type": "code",
   "execution_count": 3,
   "metadata": {},
   "outputs": [
    {
     "name": "stdout",
     "output_type": "stream",
     "text": [
      "{'dataset_data': {'limit': None, 'transform': None, 'column_index': None, 'column_names': ['Date', 'Open', 'High', 'Low', 'Close', 'Change', 'Traded Volume', 'Turnover', 'Last Price of the Day', 'Daily Traded Units', 'Daily Turnover'], 'start_date': '2019-08-01', 'end_date': '2019-08-01', 'frequency': 'daily', 'data': [['2019-08-01', 99.6, 100.7, 99.3, 100.5, None, 102399.0, 10267086.0, None, None, None]], 'collapse': None, 'order': None}}\n"
     ]
    }
   ],
   "source": [
    "# Now, call the Quandl API and pull out a small sample of the data (only one day) to get a glimpse\n",
    "# into the JSON structure that will be returned\n",
    "url = 'https://www.quandl.com/api/v3/datasets/FSE/AFX_X/data.json?start_date=2019-08-01&end_date=2019-08-01&api_key={}'.format(API_KEY)\n",
    "sample = requests.get(url)\n",
    "print(sample.json())"
   ]
  },
  {
   "cell_type": "code",
   "execution_count": 4,
   "metadata": {},
   "outputs": [
    {
     "name": "stdout",
     "output_type": "stream",
     "text": [
      "The JSON object is a 2-level nested dictionary.\n",
      "\n",
      "The length of the first level is 1.\n",
      "The key of the first level is dict_keys(['dataset_data']).\n",
      "\n",
      "The length of the second level is 10.\n",
      "The keys of the second level are dict_keys(['limit', 'transform', 'column_index', 'column_names', 'start_date', 'end_date', 'frequency', 'data', 'collapse', 'order']).\n"
     ]
    }
   ],
   "source": [
    "# Inspect the JSON structure of the object you created, and take note of how nested it is,\n",
    "# as well as the overall structure\n",
    "def depth(d):\n",
    "    return max(depth(v) if isinstance(v,dict) else 0 for v in d.values()) + 1\n",
    "\n",
    "print('The JSON object is a {}-level nested dictionary.\\n'.format(depth(sample.json())))\n",
    "\n",
    "print('The length of the first level is {}.'.format(len(sample.json())))\n",
    "print('The key of the first level is {}.\\n'.format(sample.json().keys()))\n",
    "print('The length of the second level is {}.'.format(len(sample.json()['dataset_data'])))\n",
    "print('The keys of the second level are {}.'.format(sample.json()['dataset_data'].keys()))"
   ]
  },
  {
   "cell_type": "markdown",
   "metadata": {},
   "source": [
    "These are your tasks for this mini project:\n",
    "\n",
    "1. Collect data from the Franfurt Stock Exchange, for the ticker AFX_X, for the whole year 2017 (keep in mind that the date format is YYYY-MM-DD).\n",
    "2. Convert the returned JSON object into a Python dictionary.\n",
    "3. Calculate what the highest and lowest opening prices were for the stock in this period.\n",
    "4. What was the largest change in any one day (based on High and Low price)?\n",
    "5. What was the largest change between any two days (based on Closing Price)?\n",
    "6. What was the average daily trading volume during this year?\n",
    "7. (Optional) What was the median trading volume during this year. (Note: you may need to implement your own function for calculating the median.)"
   ]
  },
  {
   "cell_type": "markdown",
   "metadata": {
    "collapsed": true
   },
   "source": [
    "### Q1. Collect data from the Franfurt Stock Exchange, for the ticker AFX_X, for the whole year 2017 (keep in mind that the date format is YYYY-MM-DD)."
   ]
  },
  {
   "cell_type": "code",
   "execution_count": 5,
   "metadata": {},
   "outputs": [],
   "source": [
    "url = 'https://www.quandl.com/api/v3/datasets/FSE/AFX_X/data.json?start_date=2017-01-01&end_date=2017-12-31&api_key={}'.format(API_KEY)\n",
    "y2017 = requests.get(url)"
   ]
  },
  {
   "cell_type": "markdown",
   "metadata": {},
   "source": [
    "### Q2. Convert the returned JSON object into a Python dictionary."
   ]
  },
  {
   "cell_type": "code",
   "execution_count": 6,
   "metadata": {},
   "outputs": [],
   "source": [
    "y2017_dict = y2017.json()"
   ]
  },
  {
   "cell_type": "markdown",
   "metadata": {},
   "source": [
    "### Q3. Calculate what the highest and lowest opening prices were for the stock in this period."
   ]
  },
  {
   "cell_type": "code",
   "execution_count": 7,
   "metadata": {},
   "outputs": [
    {
     "name": "stdout",
     "output_type": "stream",
     "text": [
      "There are 3 days that have missing open prices.\n",
      "There are 252 days that don't have missing open prices.\n",
      "\n",
      "The highest opening price in 2017 is 53.11.\n",
      "The lowest opening price in 2017 is 34.0.\n"
     ]
    }
   ],
   "source": [
    "print('There are {} days that have missing open prices.'.format(len([v[1] for v in y2017_dict['dataset_data']['data'] if v[1] == None])))\n",
    "print(\"There are {} days that don't have missing open prices.\\n\".format(len([v[1] for v in y2017_dict['dataset_data']['data'] if v[1] != None])))\n",
    "\n",
    "opens = [v[1] for v in y2017_dict['dataset_data']['data'] if v[1] != None]\n",
    "print('The highest opening price in 2017 is {}.'.format(max(opens)))\n",
    "print('The lowest opening price in 2017 is {}.'.format(min(opens)))"
   ]
  },
  {
   "cell_type": "markdown",
   "metadata": {},
   "source": [
    "### Q4. What was the largest change in any one day (based on High and Low price)?"
   ]
  },
  {
   "cell_type": "code",
   "execution_count": 8,
   "metadata": {},
   "outputs": [
    {
     "name": "stdout",
     "output_type": "stream",
     "text": [
      "The largest daily change (based on High and Low price) in 2017 is 2.8100000000000023.\n"
     ]
    }
   ],
   "source": [
    "changes = [v[2] - v[3] for v in y2017_dict['dataset_data']['data'] if v[2] != None and v[3] != None]\n",
    "print('The largest daily change (based on High and Low price) in 2017 is {}.'.format(max(changes)))"
   ]
  },
  {
   "cell_type": "markdown",
   "metadata": {},
   "source": [
    "### Q5. What was the largest change between any two days (based on Closing Price)?"
   ]
  },
  {
   "cell_type": "code",
   "execution_count": 9,
   "metadata": {},
   "outputs": [
    {
     "name": "stdout",
     "output_type": "stream",
     "text": [
      "Solution1: The largest change between any two days (based on Closing Price) is 2.559999999999995.\n",
      "Solution2: The largest change between any two days (based on Closing Price) is 2.559999999999995."
     ]
    }
   ],
   "source": [
    "closes = [v[4] for v in y2017_dict['dataset_data']['data'] if v[4] != None]\n",
    "diff1 = max(map(abs, [j-i for i, j in zip(closes[:-1], closes[1:])]))\n",
    "diff2 = max([abs(x) for x in [closes[i+1] - closes[i] for i in range(len(closes)-1)]])\n",
    "print('Solution1: The largest change between any two days (based on Closing Price) is', diff1, end=\".\\n\")\n",
    "print('Solution2: The largest change between any two days (based on Closing Price) is', diff2, end=\".\")"
   ]
  },
  {
   "cell_type": "markdown",
   "metadata": {},
   "source": [
    "### Q6. What was the average daily trading volume during this year?"
   ]
  },
  {
   "cell_type": "code",
   "execution_count": 10,
   "metadata": {},
   "outputs": [
    {
     "name": "stdout",
     "output_type": "stream",
     "text": [
      "The average daily trading volume in 2017 is 89124.33725490196."
     ]
    }
   ],
   "source": [
    "daily_vol = [v[6] for v in y2017_dict['dataset_data']['data'] if v[6] != None]\n",
    "print('The average daily trading volume in 2017 is', sum(daily_vol)/len(daily_vol), end='.')"
   ]
  },
  {
   "cell_type": "markdown",
   "metadata": {},
   "source": [
    "### Q7. What was the median trading volume during this year. (Note: you may need to implement your own function for calculating the median.)"
   ]
  },
  {
   "cell_type": "code",
   "execution_count": 11,
   "metadata": {},
   "outputs": [
    {
     "name": "stdout",
     "output_type": "stream",
     "text": [
      "The median trading volume in 2017 is 76286.0.\n",
      "Verification using median function in statistics library: The median trading volume in 2017 is 76286.0."
     ]
    }
   ],
   "source": [
    "def bubbleSort(lst):\n",
    "    n = len(lst)\n",
    "    for i in range(n-1):\n",
    "        for j in range(0, n-i-1):\n",
    "            if lst[j] > lst[j+1]:\n",
    "                lst[j], lst[j+1] = lst[j+1], lst[j]\n",
    "\n",
    "def custom_median(lst):\n",
    "    n = len(lst)\n",
    "    bubbleSort(lst)\n",
    "    if n % 2 == 0:\n",
    "        m = (lst[n//2] + lst[n//2 - 1])/2\n",
    "    else:\n",
    "        m = lst[n//2]\n",
    "    return m\n",
    "\n",
    "print('The median trading volume in 2017 is', custom_median(daily_vol), end='.\\n')\n",
    "\n",
    "import statistics\n",
    "print('Verification using median function in statistics library: The median trading volume in 2017 is', statistics.median(daily_vol), end='.')"
   ]
  }
 ],
 "metadata": {
  "kernelspec": {
   "display_name": "Python 3",
   "language": "python",
   "name": "python3"
  },
  "language_info": {
   "codemirror_mode": {
    "name": "ipython",
    "version": 3
   },
   "file_extension": ".py",
   "mimetype": "text/x-python",
   "name": "python",
   "nbconvert_exporter": "python",
   "pygments_lexer": "ipython3",
   "version": "3.7.3"
  }
 },
 "nbformat": 4,
 "nbformat_minor": 2
}
